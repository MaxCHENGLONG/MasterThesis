{
 "cells": [
  {
   "cell_type": "code",
   "execution_count": 1,
   "metadata": {},
   "outputs": [],
   "source": [
    "import numpy as np\n",
    "import torch\n",
    "import matplotlib.pyplot as plt\n",
    "import sys\n",
    "import os\n",
    "sys.path.append(os.path.abspath(\"..\"))\n",
    "def show_images(dataloader):\n",
    "    inputs, labels = next(iter(dataloader))\n",
    "    fig, axes = plt.subplots(2, 3, figsize=(10, 7))\n",
    "    for i, ax in enumerate(axes.flat):\n",
    "        img = inputs[i]\n",
    "        ax.imshow(img)\n",
    "        ax.set_title(f\"Label: {labels[i].item()}\")\n",
    "        ax.axis(\"off\")\n",
    "    plt.show()"
   ]
  },
  {
   "cell_type": "code",
   "execution_count": 2,
   "metadata": {},
   "outputs": [
    {
     "name": "stdout",
     "output_type": "stream",
     "text": [
      "dict_keys(['train_0.005', 'train_0.01', 'train_0.02', 'train_0.05', 'train_0.10', 'train_0.20', 'test'])\n"
     ]
    },
    {
     "data": {
      "image/png": "[encoded data removed]",
      "text/plain": [
       "<Figure size 1000x700 with 6 Axes>"
      ]
     },
     "metadata": {},
     "output_type": "display_data"
    }
   ],
   "source": [
    "import pickle\n",
    "file_name = \"/Users/max/MasterThesisData/Binary17_MNIST_data_loaders.pkl\"\n",
    "with open(file_name, \"rb\") as f:\n",
    "    Binary17_MNIST = pickle.load(f)\n",
    "\n",
    "print(Binary17_MNIST.keys())\n",
    "train_data_0005 = Binary17_MNIST[\"train_0.005\"]\n",
    "show_images(train_data_0005)"
   ]
  },
  {
   "cell_type": "code",
   "execution_count": 3,
   "metadata": {},
   "outputs": [],
   "source": [
    "import torch\n",
    "torch.manual_seed(42)\n",
    "if torch.cuda.is_available():\n",
    "    torch.cuda.manual_seed_all(42)\n",
    "import random\n",
    "random.seed(42)\n",
    "from sklearn import svm\n",
    "from sklearn.metrics import accuracy_score, confusion_matrix\n",
    "from sklearn.preprocessing import StandardScaler\n",
    "train_data_0005 = Binary17_MNIST[\"train_0.005\"]\n",
    "train_data_001 = Binary17_MNIST[\"train_0.01\"]\n",
    "train_data_002 = Binary17_MNIST[\"train_0.02\"]\n",
    "train_data_005 = Binary17_MNIST[\"train_0.05\"]\n",
    "train_data_010 = Binary17_MNIST[\"train_0.10\"]\n",
    "train_data_020 = Binary17_MNIST[\"train_0.20\"]\n",
    "test_data = Binary17_MNIST[\"test\"]"
   ]
  },
  {
   "cell_type": "code",
   "execution_count": 7,
   "metadata": {},
   "outputs": [
    {
     "name": "stdout",
     "output_type": "stream",
     "text": [
      "Dataset: Binary17_MNIST\n",
      "Imbalanced Ratio: 0.005\n",
      "Sample Tensor Shape: torch.Size([64, 28, 28])\n",
      "Sample Label Shape: torch.Size([64])\n"
     ]
    }
   ],
   "source": [
    "Train_DataLoader = train_data_0005 # 0.005 0.5%\n",
    "Test_DataLoader = test_data\n",
    "\n",
    "print(\"Dataset: Binary17_MNIST\")\n",
    "print(\"Imbalanced Ratio: 0.005\")\n",
    "#batch_size = 64\n",
    "sample_tensor, sample_label = next(iter(Train_DataLoader))\n",
    "print(\"Sample Tensor Shape:\", sample_tensor.shape)\n",
    "print(\"Sample Label Shape:\", sample_label.shape)\n",
    "X_train = [] # features\n",
    "y_train = [] # labels\n",
    "\n"
   ]
  },
  {
   "cell_type": "code",
   "execution_count": null,
   "metadata": {},
   "outputs": [],
   "source": []
  }
 ],
 "metadata": {
  "kernelspec": {
   "display_name": "Thesis",
   "language": "python",
   "name": "python3"
  },
  "language_info": {
   "codemirror_mode": {
    "name": "ipython",
    "version": 3
   },
   "file_extension": ".py",
   "mimetype": "text/x-python",
   "name": "python",
   "nbconvert_exporter": "python",
   "pygments_lexer": "ipython3",
   "version": "3.9.21"
  }
 },
 "nbformat": 4,
 "nbformat_minor": 2
}
