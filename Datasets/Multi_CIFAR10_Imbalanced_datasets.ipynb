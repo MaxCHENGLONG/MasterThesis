{
 "cells": [
  {
   "cell_type": "code",
   "execution_count": 3,
   "metadata": {},
   "outputs": [],
   "source": [
    "import torch\n",
    "import numpy as np\n",
    "from torchvision import datasets, transforms\n",
    "from torch.utils.data import TensorDataset, DataLoader"
   ]
  },
  {
   "cell_type": "code",
   "execution_count": 4,
   "metadata": {},
   "outputs": [],
   "source": [
    "def MultiCIFAR10create_imbalanced_datasets(\n",
    "        root='data',\n",
    "        download=True,\n",
    "        batch_size=64,\n",
    "        random_seed = 42,\n",
    "        fractions=[0.005, 0.01, 0.02, 0.05, 0.1, 0.2],\n",
    "):\n",
    "    np.random.seed(random_seed)\n",
    "    torch.manual_seed(random_seed)\n",
    "    torch.cuda.manual_seed(random_seed)\n",
    "    torch.cuda.manual_seed_all(random_seed)\n",
    "    torch.backends.cudnn.deterministic = True\n",
    "    torch.backends.cudnn.benchmark = False\n",
    "\n",
    "    cifar_transform = transforms.ToTensor()\n",
    "    Full_train_dataset = datasets.CIFAR10(root=root, train=True, transform=cifar_transform, download=download)\n",
    "    \n",
    "    train_data = torch.tensor(Full_train_dataset.data, dtype=torch.float)\n",
    "    train_labels = torch.tensor(Full_train_dataset.targets, dtype=torch.long)\n",
    "    \n",
    "     # Permute the training data to be [N, C, H, W] => [N, 3, 32, 32]\n",
    "    train_data = train_data.permute(0, 3, 1, 2)\n",
    "\n",
    "\n",
    "    train_index_label3 = (train_labels == 3) # 3 is cat\n",
    "    train_index_labels = (train_labels != 3) \n",
    "\n",
    "    train_data_label3 = train_data[train_index_label3]\n",
    "    train_data_labels = train_data[train_index_labels]\n",
    "    train_labels_label3 = train_labels[train_index_label3]\n",
    "    train_labels_labels = train_labels[train_index_labels]\n",
    "\n",
    "    num_labels = len(train_data_labels)\n",
    "    num_label3 = len(train_data_label3)\n",
    "    print('Number of images with label 3:', num_label3)\n",
    "    print('Number of images with label 4:', num_labels)\n",
    "\n",
    "    train_datasets_dict = {}\n",
    "    for fraction in fractions:\n",
    "        num_label3_need = int(num_labels * fraction / 9)\n",
    "        # Randomly choose a subset of label-3 images\n",
    "        chosen_indices_label3 = np.random.choice(len(train_data_label3), num_label3_need, replace=False)\n",
    "        subset_label3_data = train_data_label3[chosen_indices_label3]\n",
    "        subset_label3_labels = train_labels_label3[chosen_indices_label3]\n",
    "\n",
    "        # Concatenate label-4 data with the chosen subset of label-3 data\n",
    "        new_train_data = torch.cat((train_data_labels, subset_label3_data), dim=0)\n",
    "        new_train_labels = torch.cat((train_labels_labels, subset_label3_labels), dim=0)\n",
    "\n",
    "        # Create a new training dataset\n",
    "        new_train_dataset = TensorDataset(new_train_data, new_train_labels)\n",
    "        train_dataloader = DataLoader(new_train_dataset, batch_size=batch_size, shuffle=True)\n",
    "        train_datasets_dict[f'train_{fraction}'] = train_dataloader\n",
    "\n",
    "\n",
    "    test_dataset = datasets.CIFAR10(root=root, train=False, transform=cifar_transform, download=download)\n",
    "    test_data_raw = torch.tensor(test_dataset.data, dtype=torch.float)\n",
    "    test_labels_raw = torch.tensor(test_dataset.targets, dtype=torch.long)\n",
    "\n",
    "    test_data_raw = test_data_raw.permute(0, 3, 1, 2)\n",
    "\n",
    "    #test_index_label34 = (test_labels_raw == 3) | (test_labels_raw == 4)\n",
    "    test_data = test_data_raw\n",
    "    test_labels = test_labels_raw\n",
    "    test_dataset = TensorDataset(test_data, test_labels)\n",
    "    test_dataloader = DataLoader(test_dataset, batch_size=batch_size, shuffle=True)\n",
    "\n",
    "    data_loaders_dict = {**train_datasets_dict, **{'test': test_dataloader}}\n",
    "    return data_loaders_dict"
   ]
  },
  {
   "cell_type": "code",
   "execution_count": 5,
   "metadata": {},
   "outputs": [
    {
     "name": "stdout",
     "output_type": "stream",
     "text": [
      "Number of images with label 3: 5000\n",
      "Number of images with label 4: 45000\n",
      "Number of batches in train_loader_0.0005: 704\n",
      "Number of batches in train_loader_0.01: 704\n",
      "Number of batches in train_loader_0.02: 705\n",
      "Number of batches in train_loader_0.05: 708\n",
      "Number of batches in train_loader_0.1: 711\n",
      "Number of batches in train_loader_0.2: 719\n",
      "Number of batches in test_loader: 157\n",
      "Number of images in train_loader_0.0005: 45002\n",
      "Number of images in train_loader_0.01: 45050\n",
      "Number of images in train_loader_0.02: 45100\n",
      "Number of images in train_loader_0.05: 45250\n",
      "Number of images in train_loader_0.1: 45500\n",
      "Number of images in train_loader_0.2: 46000\n",
      "Number of images in test_loader: 10000\n"
     ]
    }
   ],
   "source": [
    "if __name__ == '__main__':\n",
    "    MultiCIFAR10DataLoader = MultiCIFAR10create_imbalanced_datasets(\n",
    "        root = '/Users/max/MasterThesisData/CIFAR10',\n",
    "        download=True,\n",
    "        batch_size=64,\n",
    "        random_seed = 42,\n",
    "        fractions=[0.0005, 0.01, 0.02, 0.05, 0.1, 0.2],\n",
    "    )\n",
    "\n",
    "    CIFAR10_train_loader0005 = MultiCIFAR10DataLoader['train_0.0005']\n",
    "    CIFAR10_train_loader001 = MultiCIFAR10DataLoader['train_0.01']\n",
    "    CIFAR10_train_loader002 = MultiCIFAR10DataLoader['train_0.02']\n",
    "    CIFAR10_train_loader005 = MultiCIFAR10DataLoader['train_0.05']\n",
    "    CIFAR10_train_loader010 = MultiCIFAR10DataLoader['train_0.1']\n",
    "    CIFAR10_train_loader020 = MultiCIFAR10DataLoader['train_0.2']\n",
    "    CIFAR10_test_loader = MultiCIFAR10DataLoader['test']\n",
    "\n",
    "    print('Number of batches in train_loader_0.0005:', len(CIFAR10_train_loader0005))\n",
    "    print('Number of batches in train_loader_0.01:', len(CIFAR10_train_loader001))\n",
    "    print('Number of batches in train_loader_0.02:', len(CIFAR10_train_loader002))\n",
    "    print('Number of batches in train_loader_0.05:', len(CIFAR10_train_loader005))\n",
    "    print('Number of batches in train_loader_0.1:', len(CIFAR10_train_loader010))\n",
    "    print('Number of batches in train_loader_0.2:', len(CIFAR10_train_loader020))\n",
    "    print('Number of batches in test_loader:', len(CIFAR10_test_loader))\n",
    "\n",
    "    print('Number of images in train_loader_0.0005:', len(CIFAR10_train_loader0005.dataset))\n",
    "    print('Number of images in train_loader_0.01:', len(CIFAR10_train_loader001.dataset))\n",
    "    print('Number of images in train_loader_0.02:', len(CIFAR10_train_loader002.dataset))\n",
    "    print('Number of images in train_loader_0.05:', len(CIFAR10_train_loader005.dataset))\n",
    "    print('Number of images in train_loader_0.1:', len(CIFAR10_train_loader010.dataset))\n",
    "    print('Number of images in train_loader_0.2:', len(CIFAR10_train_loader020.dataset))\n",
    "    print('Number of images in test_loader:', len(CIFAR10_test_loader.dataset))"
   ]
  },
  {
   "cell_type": "code",
   "execution_count": 6,
   "metadata": {},
   "outputs": [
    {
     "name": "stdout",
     "output_type": "stream",
     "text": [
      "DataLoader saved to Multi_CIFAR10_DataLoader.pkl\n"
     ]
    }
   ],
   "source": [
    "# save the data loaders to pkl\n",
    "\n",
    "import pickle\n",
    "Multi_CIFAR10_DataLoader = {\n",
    "    \"train_loader_0.005\": CIFAR10_train_loader0005,\n",
    "    \"train_loader_0.01\": CIFAR10_train_loader001,\n",
    "    \"train_loader_0.02\": CIFAR10_train_loader002,\n",
    "    \"train_loader_0.05\": CIFAR10_train_loader005,\n",
    "    \"train_loader_0.10\": CIFAR10_train_loader010,\n",
    "    \"train_loader_0.20\": CIFAR10_train_loader020,\n",
    "    \"test_loader\": CIFAR10_test_loader\n",
    "\n",
    "}\n",
    "\n",
    "with open('Multi_CIFAR10_DataLoader.pkl', 'wb') as f:\n",
    "    pickle.dump(Multi_CIFAR10_DataLoader, f)\n",
    "    print('DataLoader saved to Multi_CIFAR10_DataLoader.pkl')"
   ]
  },
  {
   "cell_type": "code",
   "execution_count": 7,
   "metadata": {},
   "outputs": [],
   "source": [
    "import torch\n",
    "import numpy as np\n",
    "import matplotlib.pyplot as plt\n",
    "\n",
    "def Multi_get_class_distirbution(data_loader):\n",
    "    class_distribution = {}\n",
    "    for i, (data, target) in enumerate(data_loader):\n",
    "        for label in target:\n",
    "            label = label.item()\n",
    "            if label in class_distribution:\n",
    "                class_distribution[label] += 1\n",
    "            else:\n",
    "                class_distribution[label] = 1\n",
    "    return class_distribution"
   ]
  },
  {
   "cell_type": "code",
   "execution_count": 8,
   "metadata": {},
   "outputs": [],
   "source": [
    "class_distribution_train0005 = Multi_get_class_distirbution(CIFAR10_train_loader0005)\n",
    "class_distribution_train001 = Multi_get_class_distirbution(CIFAR10_train_loader001)\n",
    "class_distribution_train002 = Multi_get_class_distirbution(CIFAR10_train_loader002)\n",
    "class_distribution_train005 = Multi_get_class_distirbution(CIFAR10_train_loader005)\n",
    "class_distribution_train010 = Multi_get_class_distirbution(CIFAR10_train_loader010)\n",
    "class_distribution_train020 = Multi_get_class_distirbution(CIFAR10_train_loader020)\n",
    "class_distribution_test = Multi_get_class_distirbution(CIFAR10_test_loader)\n"
   ]
  },
  {
   "cell_type": "code",
   "execution_count": 9,
   "metadata": {},
   "outputs": [
    {
     "data": {
      "image/png": "[encoded data removed]",
      "text/plain": [
       "<Figure size 1500x800 with 8 Axes>"
      ]
     },
     "metadata": {},
     "output_type": "display_data"
    }
   ],
   "source": [
    "import matplotlib.pyplot as plt\n",
    "\n",
    "\n",
    "dists = [\n",
    "    (class_distribution_train0005, 'Train 0.005'),\n",
    "    (class_distribution_train001, 'Train 0.01'),\n",
    "    (class_distribution_train002, 'Train 0.02'),\n",
    "    (class_distribution_train005, 'Train 0.05'),\n",
    "    (class_distribution_train010, 'Train 0.10'),\n",
    "    (class_distribution_train020, 'Train 0.20'),\n",
    "    (class_distribution_test,    'Test')\n",
    "]\n",
    "\n",
    "\n",
    "fig, axes = plt.subplots(2, 4, figsize=(15, 8))\n",
    "axes = axes.flatten()  \n",
    "\n",
    "\n",
    "max_count = max([max(dist_dict.values()) for dist_dict, _ in dists])\n",
    "\n",
    "for ax, (dist_dict, title) in zip(axes, dists):\n",
    "    \n",
    "    ax.bar(dist_dict.keys(), dist_dict.values())\n",
    "    ax.set_title(title)\n",
    "    ax.set_xlabel('Class Label')\n",
    "    ax.set_ylabel('Frequency')\n",
    "    \n",
    "    ax.set_ylim([0, max_count * 1.1]) \n",
    "\n",
    "plt.tight_layout()\n",
    "plt.show()"
   ]
  },
  {
   "cell_type": "code",
   "execution_count": null,
   "metadata": {},
   "outputs": [],
   "source": []
  }
 ],
 "metadata": {
  "kernelspec": {
   "display_name": "Thesis",
   "language": "python",
   "name": "python3"
  },
  "language_info": {
   "codemirror_mode": {
    "name": "ipython",
    "version": 3
   },
   "file_extension": ".py",
   "mimetype": "text/x-python",
   "name": "python",
   "nbconvert_exporter": "python",
   "pygments_lexer": "ipython3",
   "version": "3.9.21"
  }
 },
 "nbformat": 4,
 "nbformat_minor": 2
}
