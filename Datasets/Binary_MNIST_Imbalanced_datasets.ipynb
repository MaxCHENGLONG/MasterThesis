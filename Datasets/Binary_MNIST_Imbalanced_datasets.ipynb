{
 "cells": [
  {
   "cell_type": "code",
   "execution_count": 1,
   "metadata": {},
   "outputs": [],
   "source": [
    "import torch\n",
    "import numpy as np\n",
    "from torchvision import datasets, transforms\n",
    "from torch.utils.data import TensorDataset, DataLoader"
   ]
  },
  {
   "cell_type": "code",
   "execution_count": null,
   "metadata": {},
   "outputs": [],
   "source": [
    "def BinaryMNISTcreate_imbalanced_datasets(\n",
    "        root='data',\n",
    "        download=True,\n",
    "        batch_size=64,\n",
    "        random_seed = 42,\n",
    "        fractions=[0.005, 0.01, 0.02, 0.05, 0.1, 0.2],\n",
    "):\n",
    "    np.random.seed(random_seed)\n",
    "    torch.manual_seed(random_seed)\n",
    "    mnist_transform = transforms.ToTensor()\n",
    "    Full_train_dataset = datasets.MNIST(root=root, train=True, transform=mnist_transform, download=download)\n",
    "    train_data = Full_train_dataset.data\n",
    "    train_laebls = Full_train_dataset.targets\n",
    "    train_index_label3 = (train_laebls == 3)\n",
    "    train_index_label4 = (train_laebls == 4)\n",
    "    \n",
    "\n",
    "    train_data_label3 = train_data[train_index_label3]\n",
    "    train_data_label4 = train_data[train_index_label4]\n",
    "    train_labels_label3 = train_laebls[train_index_label3]\n",
    "    train_labels_label4 = train_laebls[train_index_label4]\n",
    "    num_label4 = len(train_data_label4)\n",
    "    num_label3 = len(train_data_label3)\n",
    "    print('Number of images with label 3:', num_label3)\n",
    "    print('Number of images with label 4:', num_label4)\n",
    "\n",
    "\n",
    "    train_datasets_dict = {}\n",
    "    for fraction in fractions:\n",
    "        num_label3_need  = int(num_label4 * fraction)\n",
    "        chosen_indices_label3 = np.random.choice(len(train_data_label3), num_label3_need, replace=False)\n",
    "        subset_label3_data = train_data_label3[chosen_indices_label3]\n",
    "        subset_label3_labels = train_labels_label3[chosen_indices_label3]\n",
    "\n",
    "        new_train_data = torch.cat((train_data_label4, subset_label3_data), dim=0)\n",
    "        new_train_labels = torch.cat((train_labels_label4, subset_label3_labels), dim=0)\n",
    "        new_train_dataset = TensorDataset(new_train_data, new_train_labels)\n",
    "        \n",
    "        train_dataloader = DataLoader(new_train_dataset, batch_size=batch_size, shuffle=True)\n",
    "        train_datasets_dict[f'train_{fraction}'] = train_dataloader\n",
    "\n",
    "    Full_test_dataset = datasets.MNIST(root=root, train=False, transform=mnist_transform, download=download)\n",
    "    test_data = Full_test_dataset.data\n",
    "    test_labels = Full_test_dataset.targets\n",
    "    test_index_label34 = (test_labels == 3) | (test_labels == 4)\n",
    "    test_data = test_data[test_index_label34]\n",
    "    test_labels = test_labels[test_index_label34]\n",
    "    test_dataset = TensorDataset(test_data, test_labels)\n",
    "    test_dataloader = DataLoader(test_dataset, batch_size=batch_size, shuffle=True)\n",
    "    data_loaders_dict = {**train_datasets_dict, **{'test': test_dataloader}}\n",
    "\n",
    "    return data_loaders_dict\n"
   ]
  },
  {
   "cell_type": "code",
   "execution_count": 3,
   "metadata": {},
   "outputs": [
    {
     "name": "stdout",
     "output_type": "stream",
     "text": [
      "Number of images with label 3: 6131\n",
      "Number of images with label 4: 5842\n",
      "Number of batches in MNIST_train_loader0005: 92\n",
      "Number of batches in MNIST_train_loader001: 93\n",
      "Number of batches in MNIST_train_loader002: 94\n",
      "Number of batches in MNIST_train_loader005: 96\n",
      "Number of batches in MNIST_train_loader010: 101\n",
      "Number of batches in MNIST_train_loader020: 110\n",
      "Number of batches in MNIST_test_loader: 32\n",
      "Number of images in MNIST_train_loader0005: 5871\n",
      "Number of images in MNIST_train_loader001: 5900\n",
      "Number of images in MNIST_train_loader002: 5958\n",
      "Number of images in MNIST_train_loader005: 6134\n",
      "Number of images in MNIST_train_loader010: 6426\n",
      "Number of images in MNIST_train_loader020: 7010\n",
      "Number of images in MNIST_test_loader: 1992\n"
     ]
    }
   ],
   "source": [
    "if __name__ == '__main__':\n",
    "    BinaryMNISTDataLoader = BinaryMNISTcreate_imbalanced_datasets(\n",
    "        root = '/Users/max/MasterThesisData/MNIST',\n",
    "        download=True,\n",
    "        batch_size=64,\n",
    "        random_seed = 42,\n",
    "        fractions=[0.005, 0.01, 0.02, 0.05, 0.1, 0.2],\n",
    "    )\n",
    "    MNIST_train_loader0005 = BinaryMNISTDataLoader['train_0.005']\n",
    "    MNIST_train_loader001 = BinaryMNISTDataLoader['train_0.01']\n",
    "    MNIST_train_loader002 = BinaryMNISTDataLoader['train_0.02']\n",
    "    MNIST_train_loader005 = BinaryMNISTDataLoader['train_0.05']\n",
    "    MNIST_train_loader010 = BinaryMNISTDataLoader['train_0.1']\n",
    "    MNIST_train_loader020 = BinaryMNISTDataLoader['train_0.2']\n",
    "    MNIST_test_loader = BinaryMNISTDataLoader['test']\n",
    "\n",
    "    print('Number of batches in MNIST_train_loader0005:', len(MNIST_train_loader0005))\n",
    "    print('Number of batches in MNIST_train_loader001:', len(MNIST_train_loader001))\n",
    "    print('Number of batches in MNIST_train_loader002:', len(MNIST_train_loader002))\n",
    "    print('Number of batches in MNIST_train_loader005:', len(MNIST_train_loader005))\n",
    "    print('Number of batches in MNIST_train_loader010:', len(MNIST_train_loader010))\n",
    "    print('Number of batches in MNIST_train_loader020:', len(MNIST_train_loader020))\n",
    "    print('Number of batches in MNIST_test_loader:', len(MNIST_test_loader))\n",
    "\n",
    "    print('Number of images in MNIST_train_loader0005:', len(MNIST_train_loader0005.dataset))\n",
    "    print('Number of images in MNIST_train_loader001:', len(MNIST_train_loader001.dataset))\n",
    "    print('Number of images in MNIST_train_loader002:', len(MNIST_train_loader002.dataset))\n",
    "    print('Number of images in MNIST_train_loader005:', len(MNIST_train_loader005.dataset))\n",
    "    print('Number of images in MNIST_train_loader010:', len(MNIST_train_loader010.dataset))\n",
    "    print('Number of images in MNIST_train_loader020:', len(MNIST_train_loader020.dataset))\n",
    "    print('Number of images in MNIST_test_loader:', len(MNIST_test_loader.dataset))"
   ]
  },
  {
   "cell_type": "markdown",
   "metadata": {},
   "source": [
    "# Analysis Imbalanced Datasets (MNIST)"
   ]
  },
  {
   "cell_type": "code",
   "execution_count": null,
   "metadata": {},
   "outputs": [],
   "source": [
    "import torch\n",
    "import numpy as np\n",
    "import matplotlib.pyplot as plt\n",
    "\n",
    "def Multi_get_class_distirbution(data_loader):\n",
    "    class_distribution = {}\n",
    "    for i, (data, target) in enumerate(data_loader):\n",
    "        for label in target:\n",
    "            label = label.item()\n",
    "            if label in class_distribution:\n",
    "                class_distribution[label] += 1\n",
    "            else:\n",
    "                class_distribution[label] = 1\n",
    "    return class_distribution"
   ]
  },
  {
   "cell_type": "code",
   "execution_count": null,
   "metadata": {},
   "outputs": [],
   "source": [
    "class_distribution_train0005 = Multi_get_class_distirbution(MNIST_train_loader0005)\n",
    "class_distribution_train001 = Multi_get_class_distirbution(MNIST_train_loader001)\n",
    "class_distribution_train002 = Multi_get_class_distirbution(MNIST_train_loader002)\n",
    "class_distribution_train005 = Multi_get_class_distirbution(MNIST_train_loader005)\n",
    "class_distribution_train010 = Multi_get_class_distirbution(MNIST_train_loader010)\n",
    "class_distribution_train020 = Multi_get_class_distirbution(MNIST_train_loader020)\n",
    "class_distribution_test = Multi_get_class_distirbution(MNIST_test_loader)"
   ]
  },
  {
   "cell_type": "code",
   "execution_count": null,
   "metadata": {},
   "outputs": [
    {
     "data": {
      "image/png": "[encoded data removed]",
      "text/plain": [
       "<Figure size 1000x500 with 1 Axes>"
      ]
     },
     "metadata": {},
     "output_type": "display_data"
    }
   ],
   "source": [
    "import matplotlib.pyplot as plt\n",
    "\n",
    "\n",
    "dists = [\n",
    "    (class_distribution_train0005, 'Train 0.005'),\n",
    "    (class_distribution_train001, 'Train 0.01'),\n",
    "    (class_distribution_train002, 'Train 0.02'),\n",
    "    (class_distribution_train005, 'Train 0.05'),\n",
    "    (class_distribution_train010, 'Train 0.10'),\n",
    "    (class_distribution_train020, 'Train 0.20'),\n",
    "    (class_distribution_test,    'Test')\n",
    "]\n",
    "\n",
    "\n",
    "fig, axes = plt.subplots(2, 4, figsize=(15, 8))\n",
    "axes = axes.flatten()  \n",
    "\n",
    "\n",
    "max_count = max([max(dist_dict.values()) for dist_dict, _ in dists])\n",
    "\n",
    "for ax, (dist_dict, title) in zip(axes, dists):\n",
    "    \n",
    "    ax.bar(dist_dict.keys(), dist_dict.values())\n",
    "    ax.set_title(title)\n",
    "    ax.set_xlabel('Class Label')\n",
    "    ax.set_ylabel('Frequency')\n",
    "    \n",
    "    ax.set_ylim([0, max_count * 1.1]) \n",
    "\n",
    "plt.tight_layout()\n",
    "plt.show()"
   ]
  },
  {
   "cell_type": "code",
   "execution_count": null,
   "metadata": {},
   "outputs": [],
   "source": []
  }
 ],
 "metadata": {
  "kernelspec": {
   "display_name": "Thesis",
   "language": "python",
   "name": "python3"
  },
  "language_info": {
   "codemirror_mode": {
    "name": "ipython",
    "version": 3
   },
   "file_extension": ".py",
   "mimetype": "text/x-python",
   "name": "python",
   "nbconvert_exporter": "python",
   "pygments_lexer": "ipython3",
   "version": "3.9.21"
  }
 },
 "nbformat": 4,
 "nbformat_minor": 2
}
