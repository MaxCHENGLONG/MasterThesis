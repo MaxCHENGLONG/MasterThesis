{
 "cells": [
  {
   "cell_type": "code",
   "execution_count": 2,
   "metadata": {},
   "outputs": [],
   "source": [
    "import torch\n",
    "import numpy as np\n",
    "from torchvision import datasets, transforms\n",
    "from torch.utils.data import TensorDataset, DataLoader"
   ]
  },
  {
   "cell_type": "code",
   "execution_count": 3,
   "metadata": {},
   "outputs": [],
   "source": [
    "def BinaryMNISTcreate_imbalanced_datasets(\n",
    "        root='data',\n",
    "        download=True,\n",
    "        batch_size=64,\n",
    "        random_seed = 42,\n",
    "        fractions=[0.01, 0.02, 0.05, 0.1, 0.2],\n",
    "):\n",
    "    np.random.seed(random_seed)\n",
    "    torch.manual_seed(random_seed)\n",
    "    mnist_transform = transforms.ToTensor()\n",
    "    Full_train_dataset = datasets.MNIST(root=root, train=True, transform=mnist_transform, download=download)\n",
    "    train_data = Full_train_dataset.data\n",
    "    train_laebls = Full_train_dataset.targets\n",
    "    train_index_label3 = (train_laebls == 3)\n",
    "    train_index_label4 = (train_laebls == 4)\n",
    "\n",
    "\n",
    "    train_data_label3 = train_data[train_index_label3]\n",
    "    train_data_label4 = train_data[train_index_label4]\n",
    "    train_labels_label3 = train_laebls[train_index_label3]\n",
    "    train_labels_label4 = train_laebls[train_index_label4]\n",
    "    num_label4 = len(train_data_label4)\n",
    "    num_label3 = len(train_data_label3)\n",
    "    print('Number of images with label 3:', num_label3)\n",
    "    print('Number of images with label 4:', num_label4)\n",
    "\n",
    "\n",
    "    train_datasets_dict = {}\n",
    "    for fraction in fractions:\n",
    "        num_label3_need  = int(num_label4 * fraction)\n",
    "        chosen_indices_label3 = np.random.choice(len(train_data_label3), num_label3_need, replace=False)\n",
    "        subset_label3_data = train_data_label3[chosen_indices_label3]\n",
    "        subset_label3_labels = train_labels_label3[chosen_indices_label3]\n",
    "\n",
    "        new_train_data = torch.cat((train_data_label4, subset_label3_data), dim=0)\n",
    "        new_train_labels = torch.cat((train_labels_label4, subset_label3_labels), dim=0)\n",
    "        new_train_dataset = TensorDataset(new_train_data, new_train_labels)\n",
    "        \n",
    "        train_dataloader = DataLoader(new_train_dataset, batch_size=batch_size, shuffle=True)\n",
    "        train_datasets_dict[f'train_{fraction}'] = train_dataloader\n",
    "\n",
    "    Full_test_dataset = datasets.MNIST(root=root, train=False, transform=mnist_transform, download=download)\n",
    "    test_data = Full_test_dataset.data\n",
    "    test_labels = Full_test_dataset.targets\n",
    "    test_index_label34 = (test_labels == 3) | (test_labels == 4)\n",
    "    test_data = test_data[test_index_label34]\n",
    "    test_labels = test_labels[test_index_label34]\n",
    "    test_dataset = TensorDataset(test_data, test_labels)\n",
    "    test_dataloader = DataLoader(test_dataset, batch_size=batch_size, shuffle=True)\n",
    "    data_loaders_dict = {**train_datasets_dict, **{'test': test_dataloader}}\n",
    "\n",
    "    return data_loaders_dict\n"
   ]
  },
  {
   "cell_type": "code",
   "execution_count": 4,
   "metadata": {},
   "outputs": [
    {
     "name": "stdout",
     "output_type": "stream",
     "text": [
      "Number of images with label 3: 6131\n",
      "Number of images with label 4: 5842\n",
      "Number of batches in MNIST_train_loader001: 93\n",
      "Number of batches in MNIST_train_loader002: 94\n",
      "Number of batches in MNIST_train_loader005: 96\n",
      "Number of batches in MNIST_train_loader010: 101\n",
      "Number of batches in MNIST_train_loader020: 110\n",
      "Number of batches in MNIST_test_loader: 32\n",
      "Number of images in MNIST_train_loader001: 5900\n",
      "Number of images in MNIST_train_loader002: 5958\n",
      "Number of images in MNIST_train_loader005: 6134\n",
      "Number of images in MNIST_train_loader010: 6426\n",
      "Number of images in MNIST_train_loader020: 7010\n",
      "Number of images in MNIST_test_loader: 1992\n"
     ]
    }
   ],
   "source": [
    "if __name__ == '__main__':\n",
    "    MNISTDataLoader = BinaryMNISTcreate_imbalanced_datasets(\n",
    "        root = '/Users/max/MasterThesisData/MNIST',\n",
    "        download=True,\n",
    "        batch_size=64,\n",
    "        random_seed = 42,\n",
    "        fractions=[0.01, 0.02, 0.05, 0.1, 0.2],\n",
    "    )\n",
    "    MNIST_train_loader001 = MNISTDataLoader['train_0.01']\n",
    "    MNIST_train_loader002 = MNISTDataLoader['train_0.02']\n",
    "    MNIST_train_loader005 = MNISTDataLoader['train_0.05']\n",
    "    MNIST_train_loader010 = MNISTDataLoader['train_0.1']\n",
    "    MNIST_train_loader020 = MNISTDataLoader['train_0.2']\n",
    "    MNIST_test_loader = MNISTDataLoader['test']\n",
    "    print('Number of batches in MNIST_train_loader001:', len(MNIST_train_loader001))\n",
    "    print('Number of batches in MNIST_train_loader002:', len(MNIST_train_loader002))\n",
    "    print('Number of batches in MNIST_train_loader005:', len(MNIST_train_loader005))\n",
    "    print('Number of batches in MNIST_train_loader010:', len(MNIST_train_loader010))\n",
    "    print('Number of batches in MNIST_train_loader020:', len(MNIST_train_loader020))\n",
    "    print('Number of batches in MNIST_test_loader:', len(MNIST_test_loader))\n",
    "    print('Number of images in MNIST_train_loader001:', len(MNIST_train_loader001.dataset))\n",
    "    print('Number of images in MNIST_train_loader002:', len(MNIST_train_loader002.dataset))\n",
    "    print('Number of images in MNIST_train_loader005:', len(MNIST_train_loader005.dataset))\n",
    "    print('Number of images in MNIST_train_loader010:', len(MNIST_train_loader010.dataset))\n",
    "    print('Number of images in MNIST_train_loader020:', len(MNIST_train_loader020.dataset))\n",
    "    print('Number of images in MNIST_test_loader:', len(MNIST_test_loader.dataset))"
   ]
  },
  {
   "cell_type": "markdown",
   "metadata": {},
   "source": [
    "# Analysis Imbalanced Datasets (MNIST)"
   ]
  },
  {
   "cell_type": "code",
   "execution_count": 5,
   "metadata": {},
   "outputs": [],
   "source": [
    "import torch\n",
    "import numpy as np\n",
    "import matplotlib.pyplot as plt\n",
    "\n",
    "def Binary_get_class_distribution(data_loader):\n",
    "    num_lable3 = 0\n",
    "    num_lable4 = 0\n",
    "    for _, label in data_loader:\n",
    "        num_label3 += (label == 3).sum().item()\n",
    "        num_label4 += (label == 4).sum().item()\n",
    "    \n",
    "    total_label = num_label3 + num_label4\n",
    "    percentage_label3 = (num_label3 / total_label)\n",
    "    percentage_label4 = (num_label4 / total_label)\n",
    "\n",
    "    \n",
    "    return percentage_label3, percentage_label4"
   ]
  },
  {
   "cell_type": "code",
   "execution_count": null,
   "metadata": {},
   "outputs": [],
   "source": []
  }
 ],
 "metadata": {
  "kernelspec": {
   "display_name": "Thesis",
   "language": "python",
   "name": "python3"
  },
  "language_info": {
   "codemirror_mode": {
    "name": "ipython",
    "version": 3
   },
   "file_extension": ".py",
   "mimetype": "text/x-python",
   "name": "python",
   "nbconvert_exporter": "python",
   "pygments_lexer": "ipython3",
   "version": "3.9.21"
  }
 },
 "nbformat": 4,
 "nbformat_minor": 2
}
