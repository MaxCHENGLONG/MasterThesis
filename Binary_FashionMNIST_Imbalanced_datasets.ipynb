{
 "cells": [
  {
   "cell_type": "code",
   "execution_count": 1,
   "metadata": {},
   "outputs": [],
   "source": [
    "import torch\n",
    "import numpy as np\n",
    "from torchvision import datasets, transforms\n",
    "from torch.utils.data import TensorDataset, DataLoader"
   ]
  },
  {
   "cell_type": "code",
   "execution_count": 3,
   "metadata": {},
   "outputs": [],
   "source": [
    "def BinaryFashionMNISTcreate_imbalanced_datasets(\n",
    "        root='data',\n",
    "        download=True,\n",
    "        batch_size=64,\n",
    "        random_seed = 42,\n",
    "        fractions=[0.01, 0.02, 0.05, 0.1, 0.2],\n",
    "):\n",
    "    np.random.seed(random_seed)\n",
    "    torch.manual_seed(random_seed)\n",
    "    mnist_transform = transforms.ToTensor()\n",
    "    Full_train_dataset = datasets.FashionMNIST(root=root, train=True, transform=mnist_transform, download=download)\n",
    "    train_data = Full_train_dataset.data\n",
    "    train_laebls = Full_train_dataset.targets\n",
    "    train_index_label3 = (train_laebls == 3)\n",
    "    train_index_label4 = (train_laebls == 4)\n",
    "\n",
    "\n",
    "    train_data_label3 = train_data[train_index_label3]\n",
    "    train_data_label4 = train_data[train_index_label4]\n",
    "    train_labels_label3 = train_laebls[train_index_label3]\n",
    "    train_labels_label4 = train_laebls[train_index_label4]\n",
    "    num_label4 = len(train_data_label4)\n",
    "    num_label3 = len(train_data_label3)\n",
    "    print('Number of images with label 3:', num_label3)\n",
    "    print('Number of images with label 4:', num_label4)\n",
    "\n",
    "\n",
    "    train_datasets_dict = {}\n",
    "    for fraction in fractions:\n",
    "        num_label3_need  = int(num_label4 * fraction)\n",
    "        chosen_indices_label3 = np.random.choice(len(train_data_label3), num_label3_need, replace=False)\n",
    "        subset_label3_data = train_data_label3[chosen_indices_label3]\n",
    "        subset_label3_labels = train_labels_label3[chosen_indices_label3]\n",
    "\n",
    "        new_train_data = torch.cat((train_data_label4, subset_label3_data), dim=0)\n",
    "        new_train_labels = torch.cat((train_labels_label4, subset_label3_labels), dim=0)\n",
    "        new_train_dataset = TensorDataset(new_train_data, new_train_labels)\n",
    "        \n",
    "        train_dataloader = DataLoader(new_train_dataset, batch_size=batch_size, shuffle=True)\n",
    "        train_datasets_dict[f'train_{fraction}'] = train_dataloader\n",
    "\n",
    "    Full_test_dataset = datasets.FashionMNIST(root=root, train=False, transform=mnist_transform, download=download)\n",
    "    test_data = Full_test_dataset.data\n",
    "    test_labels = Full_test_dataset.targets\n",
    "    test_index_label34 = (test_labels == 3) | (test_labels == 4)\n",
    "    test_data = test_data[test_index_label34]\n",
    "    test_labels = test_labels[test_index_label34]\n",
    "    test_dataset = TensorDataset(test_data, test_labels)\n",
    "    test_dataloader = DataLoader(test_dataset, batch_size=batch_size, shuffle=True)\n",
    "    data_loaders_dict = {**train_datasets_dict, **{'test': test_dataloader}}\n",
    "\n",
    "    return data_loaders_dict\n"
   ]
  },
  {
   "cell_type": "code",
   "execution_count": 5,
   "metadata": {},
   "outputs": [
    {
     "name": "stdout",
     "output_type": "stream",
     "text": [
      "Number of images with label 3: 6000\n",
      "Number of images with label 4: 6000\n",
      "Number of batches in train_0.01: 95\n",
      "Number of batches in train_0.02: 96\n",
      "Number of batches in train_0.05: 99\n",
      "Number of batches in train_0.1: 104\n",
      "Number of batches in train_0.2: 113\n",
      "Number of batches in test: 32\n",
      "Number of images in train_0.01: 6060\n",
      "Number of images in train_0.02: 6120\n",
      "Number of images in train_0.05: 6300\n",
      "Number of images in train_0.1: 6600\n",
      "Number of images in train_0.2: 7200\n",
      "Number of images in test: 2000\n"
     ]
    }
   ],
   "source": [
    "if __name__ == '__main__':\n",
    "    BinaryFashionMNISTDataLoader = BinaryFashionMNISTcreate_imbalanced_datasets(\n",
    "        root = '/Users/max/MasterThesisData/FashionMNIST',\n",
    "        download=True,\n",
    "        batch_size=64,\n",
    "        random_seed = 42,\n",
    "        fractions=[0.01, 0.02, 0.05, 0.1, 0.2],\n",
    "    )\n",
    "    FashionMNIST_train_loader001 = BinaryFashionMNISTDataLoader['train_0.01']\n",
    "    FashionMNIST_train_loader002 = BinaryFashionMNISTDataLoader['train_0.02']\n",
    "    FashionMNIST_train_loader005 = BinaryFashionMNISTDataLoader['train_0.05']\n",
    "    FashionMNIST_train_loader010 = BinaryFashionMNISTDataLoader['train_0.1']\n",
    "    FashionMNIST_train_loader020 = BinaryFashionMNISTDataLoader['train_0.2']\n",
    "    FashionMNIST_test_loader = BinaryFashionMNISTDataLoader['test']\n",
    "    print('Number of batches in train_0.01:', len(FashionMNIST_train_loader001))\n",
    "    print('Number of batches in train_0.02:', len(FashionMNIST_train_loader002))\n",
    "    print('Number of batches in train_0.05:', len(FashionMNIST_train_loader005))\n",
    "    print('Number of batches in train_0.1:', len(FashionMNIST_train_loader010))\n",
    "    print('Number of batches in train_0.2:', len(FashionMNIST_train_loader020))\n",
    "    print('Number of batches in test:', len(FashionMNIST_test_loader))\n",
    "    print('Number of images in train_0.01:', len(FashionMNIST_train_loader001.dataset))\n",
    "    print('Number of images in train_0.02:', len(FashionMNIST_train_loader002.dataset))\n",
    "    print('Number of images in train_0.05:', len(FashionMNIST_train_loader005.dataset))\n",
    "    print('Number of images in train_0.1:', len(FashionMNIST_train_loader010.dataset))\n",
    "    print('Number of images in train_0.2:', len(FashionMNIST_train_loader020.dataset))\n",
    "    print('Number of images in test:', len(FashionMNIST_test_loader.dataset))"
   ]
  },
  {
   "cell_type": "markdown",
   "metadata": {},
   "source": [
    "# Analysis Imbalanced Datasets (MNIST)"
   ]
  },
  {
   "cell_type": "code",
   "execution_count": 6,
   "metadata": {},
   "outputs": [],
   "source": [
    "import torch\n",
    "import numpy as np\n",
    "import matplotlib.pyplot as plt\n",
    "\n",
    "def Binary_get_class_distribution(data_loader):\n",
    "    num_label3 = 0\n",
    "    num_label4 = 0\n",
    "    for _, label in data_loader:\n",
    "        num_label3 += (label == 3).sum().item()\n",
    "        num_label4 += (label == 4).sum().item()\n",
    "    \n",
    "    total_label = num_label3 + num_label4\n",
    "    percentage_label3 = (num_label3 / total_label)\n",
    "    percentage_label4 = (num_label4 / total_label)\n",
    "\n",
    "    \n",
    "    return percentage_label3, percentage_label4"
   ]
  },
  {
   "cell_type": "code",
   "execution_count": 7,
   "metadata": {},
   "outputs": [],
   "source": [
    "per_label3_001, per_label4_001 = Binary_get_class_distribution(FashionMNIST_train_loader001)\n",
    "per_label3_002, per_label4_002 = Binary_get_class_distribution(FashionMNIST_train_loader002)\n",
    "per_label3_005, per_label4_005 = Binary_get_class_distribution(FashionMNIST_train_loader005)\n",
    "per_label3_010, per_label4_010 = Binary_get_class_distribution(FashionMNIST_train_loader010)\n",
    "per_label3_020, per_label4_020 = Binary_get_class_distribution(FashionMNIST_train_loader020)\n",
    "per_label3_test, per_label4_test = Binary_get_class_distribution(FashionMNIST_test_loader)"
   ]
  },
  {
   "cell_type": "code",
   "execution_count": 10,
   "metadata": {},
   "outputs": [
    {
     "data": {
      "image/png": "[encoded data removed]",
      "text/plain": [
       "<Figure size 1000x500 with 1 Axes>"
      ]
     },
     "metadata": {},
     "output_type": "display_data"
    }
   ],
   "source": [
    "def visualize_distribution(train_loaders):\n",
    "    class_3_ratios = []\n",
    "    class_4_ratios = []\n",
    "    train_names = []\n",
    "\n",
    "    for name, loader in train_loaders.items():\n",
    "        p3, p4 = Binary_get_class_distribution(loader)\n",
    "        train_names.append(name)\n",
    "        class_3_ratios.append(p3)\n",
    "        class_4_ratios.append(p4)\n",
    "\n",
    "    x = np.arange(len(train_names))\n",
    "    bar_width = 0.35\n",
    "\n",
    "    fig, ax = plt.subplots(figsize=(10, 5))\n",
    "    ax.bar(x - bar_width/2, class_3_ratios, bar_width, label=\"Class 3 (Label 3 - Dress)\")\n",
    "    ax.bar(x + bar_width/2, class_4_ratios, bar_width, label=\"Class 4 (Label 4 - Coat)\")\n",
    "\n",
    "    ax.set_xlabel(\"Train Loaders\")\n",
    "    ax.set_ylabel(\"Class Ratio\")\n",
    "    ax.set_title(\"Class Distribution in Training Sets\")\n",
    "    ax.set_xticks(x)\n",
    "    ax.set_xticklabels(train_names, rotation=45)\n",
    "    ax.legend()\n",
    "\n",
    "    plt.show()\n",
    "\n",
    "# 可视化训练集类别比例\n",
    "visualize_distribution(BinaryFashionMNISTDataLoader)"
   ]
  },
  {
   "cell_type": "code",
   "execution_count": null,
   "metadata": {},
   "outputs": [],
   "source": []
  }
 ],
 "metadata": {
  "kernelspec": {
   "display_name": "Thesis",
   "language": "python",
   "name": "python3"
  },
  "language_info": {
   "codemirror_mode": {
    "name": "ipython",
    "version": 3
   },
   "file_extension": ".py",
   "mimetype": "text/x-python",
   "name": "python",
   "nbconvert_exporter": "python",
   "pygments_lexer": "ipython3",
   "version": "3.9.21"
  }
 },
 "nbformat": 4,
 "nbformat_minor": 2
}
