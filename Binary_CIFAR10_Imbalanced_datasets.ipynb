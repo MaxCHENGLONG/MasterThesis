{
 "cells": [
  {
   "cell_type": "code",
   "execution_count": 1,
   "metadata": {},
   "outputs": [],
   "source": [
    "import torch\n",
    "import numpy as np\n",
    "from torchvision import datasets, transforms\n",
    "from torch.utils.data import TensorDataset, DataLoader"
   ]
  },
  {
   "cell_type": "code",
   "execution_count": 2,
   "metadata": {},
   "outputs": [],
   "source": [
    "def BinaryCIFAR10create_imbalanced_datasets(\n",
    "        root='data',\n",
    "        download=True,\n",
    "        batch_size=64,\n",
    "        random_seed = 42,\n",
    "        fractions=[0.01, 0.02, 0.05, 0.1, 0.2],\n",
    "):\n",
    "    np.random.seed(random_seed)\n",
    "    torch.manual_seed(random_seed)\n",
    "    torch.cuda.manual_seed(random_seed)\n",
    "    torch.cuda.manual_seed_all(random_seed)\n",
    "    torch.backends.cudnn.deterministic = True\n",
    "    torch.backends.cudnn.benchmark = False\n",
    "\n",
    "    cifar_transform = transforms.ToTensor()\n",
    "    Full_train_dataset = datasets.CIFAR10(root=root, train=True, transform=cifar_transform, download=download)\n",
    "    \n",
    "    train_data = torch.tensor(Full_train_dataset.data, dtype=torch.float)\n",
    "    train_labels = torch.tensor(Full_train_dataset.targets, dtype=torch.long)\n",
    "    \n",
    "     # Permute the training data to be [N, C, H, W] => [N, 3, 32, 32]\n",
    "    train_data = train_data.permute(0, 3, 1, 2)\n",
    "\n",
    "\n",
    "    train_index_label3 = (train_labels == 3) # 3 is cat\n",
    "    train_index_label4 = (train_labels == 4) # 4 is deer\n",
    "\n",
    "    train_data_label3 = train_data[train_index_label3]\n",
    "    train_data_label4 = train_data[train_index_label4]\n",
    "    train_labels_label3 = train_labels[train_index_label3]\n",
    "    train_labels_label4 = train_labels[train_index_label4]\n",
    "\n",
    "    num_label4 = len(train_data_label4)\n",
    "    num_label3 = len(train_data_label3)\n",
    "    print('Number of images with label 3:', num_label3)\n",
    "    print('Number of images with label 4:', num_label4)\n",
    "\n",
    "    train_datasets_dict = {}\n",
    "    for fraction in fractions:\n",
    "        num_label3_need = int(num_label4 * fraction)\n",
    "        # Randomly choose a subset of label-3 images\n",
    "        chosen_indices_label3 = np.random.choice(len(train_data_label3), num_label3_need, replace=False)\n",
    "        subset_label3_data = train_data_label3[chosen_indices_label3]\n",
    "        subset_label3_labels = train_labels_label3[chosen_indices_label3]\n",
    "\n",
    "        # Concatenate label-4 data with the chosen subset of label-3 data\n",
    "        new_train_data = torch.cat((train_data_label4, subset_label3_data), dim=0)\n",
    "        new_train_labels = torch.cat((train_labels_label4, subset_label3_labels), dim=0)\n",
    "\n",
    "        # Create a new training dataset\n",
    "        new_train_dataset = TensorDataset(new_train_data, new_train_labels)\n",
    "        train_dataloader = DataLoader(new_train_dataset, batch_size=batch_size, shuffle=True)\n",
    "        train_datasets_dict[f'train_{fraction}'] = train_dataloader\n",
    "\n",
    "\n",
    "    test_dataset = datasets.CIFAR10(root=root, train=False, transform=cifar_transform, download=download)\n",
    "    test_data_raw = torch.tensor(test_dataset.data, dtype=torch.float)\n",
    "    test_labels_raw = torch.tensor(test_dataset.targets, dtype=torch.long)\n",
    "\n",
    "    test_data_raw = test_data_raw.permute(0, 3, 1, 2)\n",
    "\n",
    "    test_index_label34 = (test_labels_raw == 3) | (test_labels_raw == 4)\n",
    "    test_data = test_data_raw[test_index_label34]\n",
    "    test_labels = test_labels_raw[test_index_label34]\n",
    "    test_dataset = TensorDataset(test_data, test_labels)\n",
    "    test_dataloader = DataLoader(test_dataset, batch_size=batch_size, shuffle=True)\n",
    "\n",
    "    data_loaders_dict = {**train_datasets_dict, **{'test': test_dataloader}}\n",
    "    return data_loaders_dict"
   ]
  },
  {
   "cell_type": "code",
   "execution_count": 3,
   "metadata": {},
   "outputs": [
    {
     "name": "stderr",
     "output_type": "stream",
     "text": [
      "100.0%\n"
     ]
    },
    {
     "name": "stdout",
     "output_type": "stream",
     "text": [
      "Number of images with label 3: 5000\n",
      "Number of images with label 4: 5000\n",
      "Number of batches in train_loader_0.01: 79\n",
      "Number of batches in train_loader_0.02: 80\n",
      "Number of batches in train_loader_0.05: 83\n",
      "Number of batches in train_loader_0.1: 86\n",
      "Number of batches in train_loader_0.2: 94\n",
      "Number of batches in test_loader: 32\n",
      "Number of images in train_loader_0.01: 5050\n",
      "Number of images in train_loader_0.02: 5100\n",
      "Number of images in train_loader_0.05: 5250\n",
      "Number of images in train_loader_0.1: 5500\n",
      "Number of images in train_loader_0.2: 6000\n",
      "Number of images in test_loader: 2000\n"
     ]
    }
   ],
   "source": [
    "if __name__ == '__main__':\n",
    "    BinaryCIFAR10DataLoader = BinaryCIFAR10create_imbalanced_datasets(\n",
    "        root = '/Users/max/MasterThesisData/CIFAR10',\n",
    "        download=True,\n",
    "        batch_size=64,\n",
    "        random_seed = 42,\n",
    "        fractions=[0.01, 0.02, 0.05, 0.1, 0.2],\n",
    "    )\n",
    "    CIFAR10_train_loader001 = BinaryCIFAR10DataLoader['train_0.01']\n",
    "    CIFAR10_train_loader002 = BinaryCIFAR10DataLoader['train_0.02']\n",
    "    CIFAR10_train_loader005 = BinaryCIFAR10DataLoader['train_0.05']\n",
    "    CIFAR10_train_loader010 = BinaryCIFAR10DataLoader['train_0.1']\n",
    "    CIFAR10_train_loader020 = BinaryCIFAR10DataLoader['train_0.2']\n",
    "    CIFAR10_test_loader = BinaryCIFAR10DataLoader['test']\n",
    "\n",
    "    print('Number of batches in train_loader_0.01:', len(CIFAR10_train_loader001))\n",
    "    print('Number of batches in train_loader_0.02:', len(CIFAR10_train_loader002))\n",
    "    print('Number of batches in train_loader_0.05:', len(CIFAR10_train_loader005))\n",
    "    print('Number of batches in train_loader_0.1:', len(CIFAR10_train_loader010))\n",
    "    print('Number of batches in train_loader_0.2:', len(CIFAR10_train_loader020))\n",
    "    print('Number of batches in test_loader:', len(CIFAR10_test_loader))\n",
    "    print('Number of images in train_loader_0.01:', len(CIFAR10_train_loader001.dataset))\n",
    "    print('Number of images in train_loader_0.02:', len(CIFAR10_train_loader002.dataset))\n",
    "    print('Number of images in train_loader_0.05:', len(CIFAR10_train_loader005.dataset))\n",
    "    print('Number of images in train_loader_0.1:', len(CIFAR10_train_loader010.dataset))\n",
    "    print('Number of images in train_loader_0.2:', len(CIFAR10_train_loader020.dataset))\n",
    "    print('Number of images in test_loader:', len(CIFAR10_test_loader.dataset))"
   ]
  },
  {
   "cell_type": "code",
   "execution_count": 4,
   "metadata": {},
   "outputs": [],
   "source": [
    "import torch\n",
    "import numpy as np\n",
    "import matplotlib.pyplot as plt\n",
    "\n",
    "def Binary_get_class_distribution(data_loader):\n",
    "    num_label3 = 0\n",
    "    num_label4 = 0\n",
    "    for _, label in data_loader:\n",
    "        num_label3 += (label == 3).sum().item()\n",
    "        num_label4 += (label == 4).sum().item()\n",
    "    \n",
    "    total_label = num_label3 + num_label4\n",
    "    percentage_label3 = (num_label3 / total_label)\n",
    "    percentage_label4 = (num_label4 / total_label)\n",
    "\n",
    "    \n",
    "    return percentage_label3, percentage_label4"
   ]
  },
  {
   "cell_type": "code",
   "execution_count": 5,
   "metadata": {},
   "outputs": [],
   "source": [
    "per_label3_001, per_label4_001 = Binary_get_class_distribution(CIFAR10_train_loader001)\n",
    "per_label3_002, per_label4_002 = Binary_get_class_distribution(CIFAR10_train_loader002)\n",
    "per_label3_005, per_label4_005 = Binary_get_class_distribution(CIFAR10_train_loader005)\n",
    "per_label3_010, per_label4_010 = Binary_get_class_distribution(CIFAR10_train_loader010)\n",
    "per_label3_020, per_label4_020 = Binary_get_class_distribution(CIFAR10_train_loader020)\n",
    "per_label3_test, per_label4_test = Binary_get_class_distribution(CIFAR10_test_loader)"
   ]
  },
  {
   "cell_type": "code",
   "execution_count": 7,
   "metadata": {},
   "outputs": [
    {
     "data": {
      "image/png": "[encoded data removed]",
      "text/plain": [
       "<Figure size 1000x500 with 1 Axes>"
      ]
     },
     "metadata": {},
     "output_type": "display_data"
    }
   ],
   "source": [
    "def visualize_distribution(train_loaders):\n",
    "    class_3_ratios = []\n",
    "    class_4_ratios = []\n",
    "    train_names = []\n",
    "\n",
    "    for name, loader in train_loaders.items():\n",
    "        p3, p4 = Binary_get_class_distribution(loader)\n",
    "        train_names.append(name)\n",
    "        class_3_ratios.append(p3)\n",
    "        class_4_ratios.append(p4)\n",
    "\n",
    "    x = np.arange(len(train_names))\n",
    "    bar_width = 0.35\n",
    "\n",
    "    fig, ax = plt.subplots(figsize=(10, 5))\n",
    "    ax.bar(x - bar_width/2, class_3_ratios, bar_width, label=\"Class 3 (Cat)\")\n",
    "    ax.bar(x + bar_width/2, class_4_ratios, bar_width, label=\"Class 4 (Deer)\")\n",
    "\n",
    "    ax.set_xlabel(\"Train Loaders\")\n",
    "    ax.set_ylabel(\"Class Ratio\")\n",
    "    ax.set_title(\"Class Distribution in Training Sets\")\n",
    "    ax.set_xticks(x)\n",
    "    ax.set_xticklabels(train_names, rotation=45)\n",
    "    ax.legend()\n",
    "\n",
    "    plt.show()\n",
    "\n",
    "# 可视化训练集类别比例\n",
    "visualize_distribution(BinaryCIFAR10DataLoader)"
   ]
  },
  {
   "cell_type": "code",
   "execution_count": null,
   "metadata": {},
   "outputs": [],
   "source": []
  }
 ],
 "metadata": {
  "kernelspec": {
   "display_name": "Thesis",
   "language": "python",
   "name": "python3"
  },
  "language_info": {
   "codemirror_mode": {
    "name": "ipython",
    "version": 3
   },
   "file_extension": ".py",
   "mimetype": "text/x-python",
   "name": "python",
   "nbconvert_exporter": "python",
   "pygments_lexer": "ipython3",
   "version": "3.9.21"
  }
 },
 "nbformat": 4,
 "nbformat_minor": 2
}
